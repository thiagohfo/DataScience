{
 "nbformat": 4,
 "nbformat_minor": 0,
 "metadata": {
  "colab": {
   "name": "Feature Extraction : Gray Level Co-occurrence Matrix (GLCM) with Python",
   "provenance": [],
   "collapsed_sections": [],
   "mount_file_id": "1pnf5flN8E_ZnMcmQG-tz16T2SXzWsu0r",
   "authorship_tag": "ABX9TyOA0DTso9KaoLBtDoeQB2H7",
   "include_colab_link": true
  },
  "kernelspec": {
   "name": "python3",
   "display_name": "Python 3"
  }
 },
 "cells": [
  {
   "cell_type": "markdown",
   "source": [
    "# Processamento de imagens\n",
    "\n",
    "Todas estas bibliotecas são essenciais para o funcionamento do código a seguir. Nesse código, em especial, é trabalhada a extração de características de imagens, transformadas em dados para posterior análise e retirada de insights.\n",
    "\n",
    "# Importando as bibliotecas\n",
    "\n",
    "- greycomatrix: Link - https://scikit-image.org/docs/dev/api/skimage.feature.html#graycomatrix\n",
    "- greycoprops: Link - https://scikit-image.org/docs/dev/api/skimage.feature.html#graycoprops"
   ],
   "metadata": {
    "collapsed": false
   }
  },
  {
   "cell_type": "code",
   "metadata": {
    "id": "lxO4GIUtCaBc",
    "colab": {
     "base_uri": "https://localhost:8080/"
    },
    "outputId": "6050889b-4cc1-4ea2-b50b-e67825387afc"
   },
   "source": [
    "import seaborn as sns\n",
    "import pandas as pd\n",
    "import numpy as np\n",
    "import cv2 \n",
    "import os\n",
    "from PIL import Image as im\n",
    "import matplotlib.pyplot as plt\n",
    "from skimage.feature import greycomatrix, greycoprops"
   ],
   "execution_count": null,
   "outputs": []
  },
  {
   "cell_type": "markdown",
   "source": [
    "# Extraindo imagens de um np.array\n",
    "\n",
    "As imagens utilizadas de um tomógrafo foram cedidas por meio de um arquivo \"npy\", sendo representadas através de uma matriz [512, 512, 281], correspondendo à 281 imagens. O código abaixo ler o arquivo \"npy\" e converte-as para imagens."
   ],
   "metadata": {
    "collapsed": false
   }
  },
  {
   "cell_type": "code",
   "execution_count": null,
   "outputs": [],
   "source": [
    "imagem = np.load('tc.npy')\n",
    "\n",
    "for i in range(0, 281):\n",
    "    img = im.fromarray(np.uint8(imagem[:,:,i]))\n",
    "    img.save('CT_Scan/{}.png'.format(i))"
   ],
   "metadata": {
    "collapsed": false
   }
  },
  {
   "cell_type": "markdown",
   "source": [
    "# Criando as variáveis necessárias e recebendo as imagens\n",
    "\n",
    "Todas as imagens passam por um processo de transformação para serem trabalhadas pelos algoritmos corretos. Nesse trecho de código, a escala de cores é ajustada e o tamanho das imagens."
   ],
   "metadata": {
    "collapsed": false
   }
  },
  {
   "cell_type": "code",
   "execution_count": null,
   "outputs": [],
   "source": [
    "dataset_dir = \"CT_Scan\"\n",
    "\n",
    "imgs = [] # Matrix de imagens\n",
    "show_images = [] # Imagens para serem exibidas sem tratamento\n",
    "labels = [] # Nome de cada imagem\n",
    "\n",
    "for i, filename in enumerate(os.listdir(dataset_dir)):\n",
    "    label = filename\n",
    "    filename = os.path.join(dataset_dir, filename)\n",
    "    img = cv2.imread(filename)\n",
    "    show_images.append(img)\n",
    "\n",
    "    # Tratamento da imagem para trabalharmos\n",
    "    gray = cv2.cvtColor(img, cv2.COLOR_BGR2GRAY)\n",
    "    h, w = gray.shape\n",
    "    ymin, ymax, xmin, xmax = h//3, h*2//3, w//3, w*2//3\n",
    "    crop = gray[ymin:ymax, xmin:xmax]\n",
    "    resize = cv2.resize(crop, (0,0), fx=0.5, fy=0.5)\n",
    "\n",
    "    imgs.append(resize)\n",
    "    labels.append(label)"
   ],
   "metadata": {
    "collapsed": false
   }
  },
  {
   "cell_type": "markdown",
   "source": [
    "# Exibindo algumas imagens\n",
    "\n",
    "Para melhor visualizarmos e termos noção das imagens que estramos trabalhando, o trecho de código a seguir é utilizado para exibir algumas imagens. Somente como um demonstrativo."
   ],
   "metadata": {
    "collapsed": false
   }
  },
  {
   "cell_type": "code",
   "execution_count": null,
   "outputs": [],
   "source": [
    "plt.figure(figsize= (20, 20))\n",
    "\n",
    "for i in range(0, 25):\n",
    "    plt.subplot(5, 5, i + 1)\n",
    "    image = show_images[i] / 255       # scales data to range (0 - 255)\n",
    "    plt.imshow(image)\n",
    "    img_title = labels[i]   # get class of image\n",
    "    plt.title(img_title, color= 'blue', fontsize= 12)\n",
    "    plt.axis('off')\n",
    "plt.show()"
   ],
   "metadata": {
    "collapsed": false
   }
  },
  {
   "cell_type": "markdown",
   "source": [
    "# Gray-Level Co-ocurrence Matrix\n",
    "\n",
    "Um método estatístico de examinar a textura que considera a relação espacial de pixels é a Gray-Level Co-ocurrence Matrix (GLCM), também conhecida como matriz de dependência espacial de nível de cinza. As funções GLCM caracterizam a textura de uma imagem calculando com que frequência pares de pixels com valores específicos e em uma relação espacial especificada ocorrem em uma imagem, criando um GLCM e, em seguida, extraindo medidas estatísticas dessa matriz. As funções de filtro de textura, não podem fornecer informações sobre a forma.\n",
    "\n",
    "Depois de criar os GLCMs usando a graycomatrix, você pode derivar várias estatísticas deles usando graycoprops. Essas estatísticas fornecem informações sobre a textura de uma imagem.\n",
    "\n",
    "O código a seguir é responsável por parametrizar o algoritmo GLCM e executá-lo."
   ],
   "metadata": {
    "collapsed": false
   }
  },
  {
   "cell_type": "code",
   "metadata": {
    "id": "5FTp6wFpGrSs"
   },
   "source": [
    "properties = ['dissimilarity', 'correlation', 'homogeneity', 'contrast', 'ASM', 'energy']\n",
    "\n",
    "glcm_features = [] # Cada uma das propriedades é trazida para a lista de features\n",
    "\n",
    "for img, label in zip(imgs, labels):\n",
    "    glcm = greycomatrix(img, distances=[5], angles=[0, np.pi/2], levels=256, symmetric=True, normed=True)\n",
    "    feature = []\n",
    "    glcm_props = [propery for name in properties for propery in greycoprops(glcm, name)[0]]\n",
    "\n",
    "    for item in glcm_props:\n",
    "            feature.append(item)\n",
    "\n",
    "    glcm_features.append(feature)\n",
    " \n",
    "columns = []\n",
    "angles = ['0', '90']\n",
    "for name in properties :\n",
    "    for ang in angles:\n",
    "        columns.append(name + \"_\" + ang)\n",
    "        \n",
    "# columns.append(\"label\")"
   ],
   "execution_count": null,
   "outputs": []
  },
  {
   "cell_type": "markdown",
   "metadata": {
    "id": "VFYtEXJGW2B-"
   },
   "source": [
    "# Verificando como ficou a base de dados\n",
    "\n",
    "Após a extração de features, vamos verificar como ficou a base de dados. Somente como um demonstrativo."
   ]
  },
  {
   "cell_type": "code",
   "metadata": {
    "colab": {
     "base_uri": "https://localhost:8080/",
     "height": 534
    },
    "id": "g70Kv8FTGW1l",
    "outputId": "d72e1d73-35a3-455c-8793-1e3433609b3d"
   },
   "source": [
    "glcm_df = pd.DataFrame(glcm_features, columns = columns)\n",
    "\n",
    "glcm_df.head()"
   ],
   "execution_count": null,
   "outputs": []
  },
  {
   "cell_type": "markdown",
   "source": [
    "# Resumo estatístico\n",
    "\n",
    "A função describe() fornece um resumo estatístico das principais estimativas de localização e variabilidade."
   ],
   "metadata": {
    "collapsed": false
   }
  },
  {
   "cell_type": "code",
   "execution_count": null,
   "outputs": [],
   "source": [
    "glcm_df.describe()"
   ],
   "metadata": {
    "collapsed": false
   }
  },
  {
   "cell_type": "markdown",
   "source": [
    "# Histograma\n",
    "\n",
    "Um histograma é um gráfico usado para representar a distribuição de frequência de alguns pontos de dados de uma variável. Os histogramas geralmente classificam os dados em vários “compartimentos/bins” ou “grupos de intervalo/range groups” e contam quantos pontos de dados pertencem a cada um desses compartimentos."
   ],
   "metadata": {
    "collapsed": false
   }
  },
  {
   "cell_type": "code",
   "execution_count": null,
   "outputs": [],
   "source": [
    "plt.figure()\n",
    "glcm_df.hist(figsize=(16, 14))\n",
    "plt.show()"
   ],
   "metadata": {
    "collapsed": false
   }
  },
  {
   "cell_type": "markdown",
   "source": [
    "# Scatter Matrix\n",
    "\n",
    "Gráficos de dispersão são usados para mostrar relacionamentos. Para correlação, os gráficos de dispersão ajudam a mostrar a força da relação linear entre duas variáveis. Para regressão, os gráficos de dispersão geralmente adicionam uma linha ajustada. No controle de qualidade, os gráficos de dispersão geralmente incluem limites de especificação ou linhas de referência."
   ],
   "metadata": {
    "collapsed": false
   }
  },
  {
   "cell_type": "code",
   "execution_count": null,
   "outputs": [],
   "source": [
    "sns.pairplot(glcm_df)"
   ],
   "metadata": {
    "collapsed": false
   }
  }
 ]
}
